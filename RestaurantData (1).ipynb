{
  "cells": [
    {
      "cell_type": "code",
      "execution_count": null,
      "metadata": {
        "id": "utN26_WYipbz"
      },
      "outputs": [],
      "source": [
        "import json\n",
        "import pandas as pd"
      ]
    },
    {
      "cell_type": "code",
      "execution_count": 23,
      "metadata": {
        "id": "w-49xr_Bi0mH"
      },
      "outputs": [],
      "source": [
        "# Create an output file (restaurants.json) only containing restaurant data \n",
        "\n",
        "total_rev_count = 0\n",
        "# restaurant_list = []\n",
        "business_id = set()\n",
        "output2 = open(\"restaurant_rev.json\",\"w\")\n",
        "output = open('restaurants.json','w') \n",
        "\n",
        "with open('yelp_academic_dataset_business.json', 'r') as f:\n",
        "  for line in f: \n",
        "    json_line = json.loads(line)\n",
        "    if json_line[\"categories\"] == None: \n",
        "      pass \n",
        "    elif \"Restaurants\" in json_line[\"categories\"]: \n",
        "        # print(line.strip())\n",
        "        output.write(line)\n",
        "        total_rev_count += json_line[\"review_count\"]\n",
        "        # restaurant_list.append(line.strip())\n",
        "        business_id.add(json_line['business_id'])\n",
        "        output2.write(str(json_line[\"business_id\"]) +\" \"+ str(json_line[\"stars\"]) + \"\\n\")\n",
        "output.close()\n",
        "output2.close()\n",
        "# print(total_rev_count)\n"
      ]
    },
    {
      "cell_type": "code",
      "execution_count": 24,
      "metadata": {
        "colab": {
          "base_uri": "https://localhost:8080/"
        },
        "id": "FAMD6QYmJ6Mv",
        "outputId": "4320495e-612e-4ec6-fb63-f1cb66c90a80"
      },
      "outputs": [
        {
          "output_type": "stream",
          "name": "stdout",
          "text": [
            "Drive already mounted at /content/drive; to attempt to forcibly remount, call drive.mount(\"/content/drive\", force_remount=True).\n"
          ]
        }
      ],
      "source": [
        "from google.colab import drive\n",
        "drive.mount('/content/drive')"
      ]
    },
    {
      "cell_type": "code",
      "execution_count": 25,
      "metadata": {
        "colab": {
          "base_uri": "https://localhost:8080/",
          "height": 53
        },
        "id": "TN-JREcl4Zhu",
        "outputId": "e67c087b-9de5-4431-965a-e89d911415bd"
      },
      "outputs": [
        {
          "output_type": "execute_result",
          "data": {
            "text/plain": [
              "'\\nLtG1BloPZmht57B4f8pimA 4.5\\n4-vRC6g1LOXyXXe4EfxBwg 4.5\\nnUreSQ479-VZTnRUfQ25NQ 4.0\\nNWwVZnCb8-Oh9QWWAb2T2Q 3.5\\n'"
            ],
            "application/vnd.google.colaboratory.intrinsic+json": {
              "type": "string"
            }
          },
          "metadata": {},
          "execution_count": 25
        }
      ],
      "source": [
        "impt = open(\"restaurant_rev.json\")\n",
        "'''\n",
        "LtG1BloPZmht57B4f8pimA 4.5\n",
        "4-vRC6g1LOXyXXe4EfxBwg 4.5\n",
        "nUreSQ479-VZTnRUfQ25NQ 4.0\n",
        "NWwVZnCb8-Oh9QWWAb2T2Q 3.5\n",
        "'''"
      ]
    },
    {
      "cell_type": "code",
      "execution_count": 26,
      "metadata": {
        "id": "v1STNFjTnfG6"
      },
      "outputs": [],
      "source": [
        "# sanity check (see what is in the restaurants file)\n",
        "\n",
        "with open('restaurants.json') as f: \n",
        "  for line in f: \n",
        "    line = json.loads(line)\n",
        "\n",
        "# print(len(business_id))"
      ]
    },
    {
      "cell_type": "code",
      "execution_count": null,
      "metadata": {
        "colab": {
          "base_uri": "https://localhost:8080/",
          "height": 258
        },
        "id": "KMRTjn5ZvrvA",
        "outputId": "a889a858-600f-4f06-e3fe-b49315054bfb"
      },
      "outputs": [
        {
          "ename": "KeyboardInterrupt",
          "evalue": "ignored",
          "output_type": "error",
          "traceback": [
            "\u001b[0;31m---------------------------------------------------------------------------\u001b[0m",
            "\u001b[0;31mKeyboardInterrupt\u001b[0m                         Traceback (most recent call last)",
            "\u001b[0;32m<ipython-input-20-280ac3250711>\u001b[0m in \u001b[0;36m<module>\u001b[0;34m()\u001b[0m\n\u001b[1;32m     16\u001b[0m           \u001b[0;32mpass\u001b[0m\u001b[0;34m\u001b[0m\u001b[0;34m\u001b[0m\u001b[0m\n\u001b[1;32m     17\u001b[0m         \u001b[0;32melse\u001b[0m\u001b[0;34m:\u001b[0m\u001b[0;34m\u001b[0m\u001b[0;34m\u001b[0m\u001b[0m\n\u001b[0;32m---> 18\u001b[0;31m           \u001b[0mtemp_string\u001b[0m \u001b[0;34m+=\u001b[0m \u001b[0mcharacter\u001b[0m\u001b[0;34m\u001b[0m\u001b[0;34m\u001b[0m\u001b[0m\n\u001b[0m\u001b[1;32m     19\u001b[0m       \u001b[0;31m# print(rev_line)\u001b[0m\u001b[0;34m\u001b[0m\u001b[0;34m\u001b[0m\u001b[0;34m\u001b[0m\u001b[0m\n\u001b[1;32m     20\u001b[0m       \u001b[0mreviews_rest\u001b[0m\u001b[0;34m.\u001b[0m\u001b[0mwrite\u001b[0m\u001b[0;34m(\u001b[0m\u001b[0mstr\u001b[0m\u001b[0;34m(\u001b[0m\u001b[0mrev_line\u001b[0m\u001b[0;34m[\u001b[0m\u001b[0;34m\"stars\"\u001b[0m\u001b[0;34m]\u001b[0m\u001b[0;34m)\u001b[0m \u001b[0;34m+\u001b[0m \u001b[0;34m\" \"\u001b[0m  \u001b[0;34m+\u001b[0m \u001b[0mstr\u001b[0m\u001b[0;34m(\u001b[0m\u001b[0mrev_line\u001b[0m\u001b[0;34m[\u001b[0m\u001b[0;34m\"useful\"\u001b[0m\u001b[0;34m]\u001b[0m\u001b[0;34m)\u001b[0m \u001b[0;34m+\u001b[0m \u001b[0;34m\" \"\u001b[0m \u001b[0;34m+\u001b[0m \u001b[0mstr\u001b[0m\u001b[0;34m(\u001b[0m\u001b[0mrev_line\u001b[0m\u001b[0;34m[\u001b[0m\u001b[0;34m\"funny\"\u001b[0m\u001b[0;34m]\u001b[0m\u001b[0;34m)\u001b[0m \u001b[0;34m+\u001b[0m \u001b[0mstr\u001b[0m\u001b[0;34m(\u001b[0m\u001b[0;34m\" \"\u001b[0m\u001b[0;34m)\u001b[0m \u001b[0;34m+\u001b[0m \u001b[0mstr\u001b[0m\u001b[0;34m(\u001b[0m\u001b[0mrev_line\u001b[0m\u001b[0;34m[\u001b[0m\u001b[0;34m\"cool\"\u001b[0m\u001b[0;34m]\u001b[0m\u001b[0;34m)\u001b[0m \u001b[0;34m+\u001b[0m \u001b[0mstr\u001b[0m\u001b[0;34m(\u001b[0m\u001b[0;34m\" \"\u001b[0m\u001b[0;34m)\u001b[0m \u001b[0;34m+\u001b[0m \u001b[0mtemp_string\u001b[0m \u001b[0;34m+\u001b[0m \u001b[0;34m\"\\n\"\u001b[0m\u001b[0;34m)\u001b[0m\u001b[0;34m\u001b[0m\u001b[0;34m\u001b[0m\u001b[0m\n",
            "\u001b[0;31mKeyboardInterrupt\u001b[0m: "
          ]
        }
      ],
      "source": [
        "rev_ids = set()\n",
        "line_count = 0\n",
        "\n",
        "reviews_rest = open(\"Restaurant_Condensed.json\", \"w\")\n",
        "# print(business_id)\n",
        "temp_string = \"\"\n",
        "with open('/content/yelp_academic_dataset_review.json') as rev_file: \n",
        "  for line in rev_file:\n",
        "    line_count += 1\n",
        "    rev_line = json.loads(line) \n",
        "    if rev_line['business_id'] in business_id: \n",
        "      rev_ids.add(rev_line['review_id'])\n",
        "      response = rev_line['text']\n",
        "      for character in response:\n",
        "        if character == \"\\n\":\n",
        "          pass\n",
        "        else:\n",
        "          temp_string += character\n",
        "      # print(rev_line)\n",
        "      reviews_rest.write(str(rev_line[\"stars\"]) + \" \"  + str(rev_line[\"useful\"]) + \" \" + str(rev_line[\"funny\"]) + str(\" \") + str(rev_line[\"cool\"]) + str(\" \") + temp_string + \"\\n\")\n",
        "      temp_string = \"\"\n",
        "\n",
        "print(len(rev_ids),line_count)\n",
        "reviews_rest.close()\n",
        "\n"
      ]
    },
    {
      "cell_type": "code",
      "execution_count": 28,
      "metadata": {
        "colab": {
          "base_uri": "https://localhost:8080/",
          "height": 133
        },
        "id": "RMAbX9X5CNjz",
        "outputId": "64b12b47-0bcf-450c-c45e-a95fd7c0785b"
      },
      "outputs": [
        {
          "output_type": "error",
          "ename": "SyntaxError",
          "evalue": "ignored",
          "traceback": [
            "\u001b[0;36m  File \u001b[0;32m\"<ipython-input-28-691a6e688c88>\"\u001b[0;36m, line \u001b[0;32m3\u001b[0m\n\u001b[0;31m    # print(l.strip())\u001b[0m\n\u001b[0m                      ^\u001b[0m\n\u001b[0;31mSyntaxError\u001b[0m\u001b[0;31m:\u001b[0m unexpected EOF while parsing\n"
          ]
        }
      ],
      "source": [
        "restaurant_reviews = open(\"Restaurant_Condensed.json\")\n",
        "for l in restaurant_reviews: \n",
        "  # print(l.strip())"
      ]
    }
  ],
  "metadata": {
    "colab": {
      "name": "RestaurantData.ipynb",
      "provenance": []
    },
    "kernelspec": {
      "display_name": "Python 3",
      "name": "python3"
    },
    "language_info": {
      "name": "python"
    }
  },
  "nbformat": 4,
  "nbformat_minor": 0
}